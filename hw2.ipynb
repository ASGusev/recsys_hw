{
 "cells": [
  {
   "cell_type": "code",
   "execution_count": 1,
   "metadata": {},
   "outputs": [],
   "source": [
    "from pathlib import Path\n",
    "from collections import Counter, defaultdict\n",
    "\n",
    "import numpy as np\n",
    "import pandas as pd\n",
    "from scipy.sparse import csr_matrix\n",
    "import catboost\n",
    "from sklearn.metrics import roc_auc_score"
   ]
  },
  {
   "cell_type": "code",
   "execution_count": 2,
   "metadata": {},
   "outputs": [],
   "source": [
    "data_path = Path('data')\n",
    "songs = pd.read_csv(data_path / 'songs.csv')\n",
    "listens = pd.read_csv(data_path / 'train.csv')\n",
    "members = pd.read_csv(data_path / 'members.csv')"
   ]
  },
  {
   "cell_type": "code",
   "execution_count": 5,
   "metadata": {},
   "outputs": [],
   "source": [
    "users_counter = Counter(listens['msno'])\n",
    "active_users = [u for u, c in users_counter.most_common() if c > 50]\n",
    "user_ids = {u: i for i, u in enumerate(active_users)}\n",
    "n_users = len(active_users)\n",
    "songs_counter = Counter(listens['song_id'])\n",
    "popular_songs = [s for s, c in songs_counter.most_common() if c > 50]\n",
    "song_ids = {s: i for i, s in enumerate(popular_songs)}\n",
    "n_songs = len(popular_songs)"
   ]
  },
  {
   "cell_type": "code",
   "execution_count": 6,
   "metadata": {},
   "outputs": [],
   "source": [
    "listens['uid'] = listens['msno'].apply(lambda u: user_ids.get(u, -1))\n",
    "listens['sid'] = listens['song_id'].apply(lambda s: song_ids.get(s, -1))"
   ]
  },
  {
   "cell_type": "code",
   "execution_count": 7,
   "metadata": {},
   "outputs": [],
   "source": [
    "genre_counter = Counter(\n",
    "    g\n",
    "    for x in songs['genre_ids'] if isinstance(x, str)\n",
    "    for g in x.split('|')\n",
    ")\n",
    "popular_genres = {g for g, c in genre_counter.most_common() if c >= 100}\n",
    "\n",
    "def extract_genre(genre_ids):\n",
    "    if not isinstance(genre_ids, str):\n",
    "        return None\n",
    "    genres_ids = [g for g in genre_ids.split('|') if g in popular_genres]\n",
    "    return genres_ids[0] if genres_ids else None\n",
    "    \n",
    "listens['gid'] = listens.join(songs.set_index('song_id'), on='song_id', how='left')['genre_ids']\\\n",
    "    .apply(extract_genre)\\\n",
    "    .reset_index()['genre_ids']"
   ]
  },
  {
   "cell_type": "code",
   "execution_count": 8,
   "metadata": {},
   "outputs": [],
   "source": [
    "users_songs_mask = (listens['uid'] >= 0) & (listens['sid'] >= 0)\n",
    "data = listens.join(members[['msno', 'gender', 'bd']].set_index('msno'), on='msno', how='left')[users_songs_mask]"
   ]
  },
  {
   "cell_type": "code",
   "execution_count": 9,
   "metadata": {},
   "outputs": [],
   "source": [
    "data['gender'] = data['gender'].fillna('unk')\n",
    "data['source_screen_name'] = data['source_screen_name'].fillna('unk')\n",
    "data['source_system_tab'] = data['source_system_tab'].fillna('unk')\n",
    "data['source_type'] = data['source_type'].fillna('unk')\n",
    "data['gid'] = data['gid'].fillna(-1)"
   ]
  },
  {
   "cell_type": "code",
   "execution_count": 10,
   "metadata": {},
   "outputs": [],
   "source": [
    "def calc_roc(pt):\n",
    "    pred, target = np.array(list(pt.values)).T\n",
    "    if len(set(target)) < 2:\n",
    "        return 0\n",
    "    return roc_auc_score(target, pred)\n",
    "\n",
    "\n",
    "def evaluate(val_data, model):\n",
    "    pred = model.predict(val_data)[:, 1]\n",
    "    pred_data = val_data[['uid', 'target']].assign(pred=pred)\n",
    "    pred_data['pt'] = pred_data[['pred', 'target']].apply(tuple, axis=1)\n",
    "    return pred_data[['uid', 'pt']].groupby('uid').agg(calc_roc)['pt'].mean()\n",
    "    \n",
    "\n",
    "def cross_validate(data, model_factory, n_folds=5):\n",
    "    fold_ids = np.random.randint(0, n_folds, len(data))\n",
    "    roc_aucs = []\n",
    "    for i in range(n_folds):\n",
    "        val_mask = fold_ids == i\n",
    "        train_data = data[~val_mask]\n",
    "        val_data = data[val_mask]\n",
    "        train_users, val_users = set(train_data['uid']), set(val_data['uid'])\n",
    "        cus = train_users & val_users\n",
    "        train_songs, val_songs = set(train_data['sid']), set(val_data['sid'])\n",
    "        css = train_songs & val_songs\n",
    "        train_data = train_data[train_data['uid'].apply(cus.__contains__) & train_data['sid'].apply(css.__contains__)]\n",
    "        val_data = val_data[val_data['uid'].apply(cus.__contains__) & val_data['sid'].apply(css.__contains__)]\n",
    "        \n",
    "        model = model_factory()\n",
    "        model.fit(train_data)\n",
    "        roc_auc = evaluate(val_data, model)\n",
    "        roc_aucs.append(roc_auc)\n",
    "        print(f'Fold {i}, ROC AUC {roc_auc}')\n",
    "    print(f'Average ROC AUC {np.mean(roc_aucs)}')"
   ]
  },
  {
   "cell_type": "code",
   "execution_count": 11,
   "metadata": {},
   "outputs": [],
   "source": [
    "def collect_listens(data):\n",
    "    users_listened = defaultdict(list)\n",
    "    songs_listeners = defaultdict(list)\n",
    "    users_degrees = np.zeros(n_users, dtype=np.int32)\n",
    "    songs_degrees = np.zeros(n_songs, dtype=np.int32)\n",
    "    for _, u, s in data[['uid', 'sid']].itertuples():\n",
    "        users_listened[u].append(s)\n",
    "        songs_listeners[s].append(u)\n",
    "        users_degrees[u] += 1\n",
    "        songs_degrees[s] += 1\n",
    "    return users_listened, songs_listeners, users_degrees, songs_degrees\n",
    "    \n",
    "def make_edges_list(edges_dict):\n",
    "    rows, cols, data = [], [], []\n",
    "    for v, neighbours in edges_dict.items():\n",
    "        rows.extend([v] * len(neighbours))\n",
    "        cols.extend(range(len(neighbours)))\n",
    "        data.extend(neighbours)\n",
    "    return csr_matrix((data, (rows, cols)))"
   ]
  },
  {
   "cell_type": "code",
   "execution_count": 12,
   "metadata": {},
   "outputs": [],
   "source": [
    "def make_walk_step(vs, degrees, edges):\n",
    "    edge_indexes = np.zeros(len(vs), dtype=np.int32)\n",
    "    mask = degrees[vs] > 0\n",
    "    edge_indexes[mask] = np.random.randint(degrees[vs][mask])\n",
    "    return np.array(edges[vs, edge_indexes]).ravel()\n",
    "\n",
    "def walk(users, users_edges, songs_edges, users_degrees, songs_degrees, steps, walks_per_user):\n",
    "    pos = np.array(users).repeat(walks_per_user)\n",
    "    for _ in range(steps):\n",
    "        pos = make_walk_step(pos, users_degrees, users_edges)\n",
    "        pos = make_walk_step(pos, songs_degrees, songs_edges)\n",
    "    return pos.reshape((-1, walks_per_user))"
   ]
  },
  {
   "cell_type": "code",
   "execution_count": 13,
   "metadata": {},
   "outputs": [],
   "source": [
    "class PageRank:\n",
    "    def __init__(self):\n",
    "        self.user_song_reaches = {}\n",
    "        \n",
    "    def fit(self, data):\n",
    "        users_listened, songs_listeners, users_degrees, songs_degrees = collect_listens(data[data['target'] == 1])\n",
    "        users_edges = make_edges_list(users_listened)\n",
    "        songs_edges = make_edges_list(songs_listeners)\n",
    "        user_list = list(set(data['uid']))\n",
    "        reached = walk(user_list, users_edges, songs_edges, users_degrees, songs_degrees, 25, 800)\n",
    "        self.user_song_reaches = {}\n",
    "        for u, u_reaches in zip(user_list, reached):\n",
    "            r_songs, reaches = np.unique(u_reaches, return_counts=True)\n",
    "            for s, rs in zip(r_songs, reaches):\n",
    "                self.user_song_reaches[(u, s)] = rs\n",
    "        return self\n",
    "        \n",
    "    def predict(self, data):\n",
    "        return [self.user_song_reaches.get((u, s), 0) for _, u, s in data[['uid', 'sid']].itertuples()]"
   ]
  },
  {
   "cell_type": "code",
   "execution_count": 14,
   "metadata": {
    "scrolled": true
   },
   "outputs": [],
   "source": [
    "class GBModel:\n",
    "    _all_features = ['bd', 'gid', 'gender', 'source_screen_name', 'source_system_tab', 'source_type']\n",
    "    _cat_features = ['gid', 'gender', 'source_screen_name', 'source_system_tab', 'source_type']\n",
    "    \n",
    "    def __init__(self):\n",
    "        self.clf = catboost.CatBoostClassifier(\n",
    "            learning_rate=.5, task_type='GPU', n_estimators=100, max_depth=10, logging_level='Silent')\n",
    "        self.pr = PageRank()\n",
    "    \n",
    "    def fit(self, data):\n",
    "        self.pr.fit(data)\n",
    "        x = data[GBModel._all_features].assign(pr=self.pr.predict(data))\n",
    "        y = data['target']\n",
    "        self.clf.fit(x, y, cat_features=GBModel._cat_features)\n",
    "        return self\n",
    "    \n",
    "    def predict(self, data):\n",
    "        x = data[GBModel._all_features].assign(pr=self.pr.predict(data))\n",
    "        return self.clf.predict_proba(x)"
   ]
  },
  {
   "cell_type": "code",
   "execution_count": 15,
   "metadata": {},
   "outputs": [
    {
     "name": "stdout",
     "output_type": "stream",
     "text": [
      "Fold 0, ROC AUC 0.6002626124952338\n",
      "Fold 1, ROC AUC 0.5990600420025464\n",
      "Fold 2, ROC AUC 0.5985713389834931\n",
      "Fold 3, ROC AUC 0.6002730834978369\n",
      "Fold 4, ROC AUC 0.599017883198402\n",
      "Average ROC AUC 0.5994369920355024\n"
     ]
    }
   ],
   "source": [
    "cross_validate(data, GBModel)"
   ]
  }
 ],
 "metadata": {
  "kernelspec": {
   "display_name": "Python 3",
   "language": "python",
   "name": "python3"
  },
  "language_info": {
   "codemirror_mode": {
    "name": "ipython",
    "version": 3
   },
   "file_extension": ".py",
   "mimetype": "text/x-python",
   "name": "python",
   "nbconvert_exporter": "python",
   "pygments_lexer": "ipython3",
   "version": "3.7.7"
  }
 },
 "nbformat": 4,
 "nbformat_minor": 4
}
