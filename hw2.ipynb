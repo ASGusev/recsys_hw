{
 "cells": [
  {
   "cell_type": "code",
   "execution_count": 1,
   "metadata": {},
   "outputs": [],
   "source": [
    "from pathlib import Path\n",
    "from collections import Counter, defaultdict\n",
    "from itertools import chain\n",
    "\n",
    "import numpy as np\n",
    "import pandas as pd\n",
    "from scipy.sparse import csr_matrix\n",
    "import catboost\n",
    "from sklearn.metrics import roc_auc_score\n",
    "from sklearn.model_selection import train_test_split\n",
    "from hyperopt import hp, fmin, tpe, space_eval"
   ]
  },
  {
   "cell_type": "code",
   "execution_count": 2,
   "metadata": {},
   "outputs": [],
   "source": [
    "data_path = Path('data')\n",
    "songs = pd.read_csv(data_path / 'songs.csv')\n",
    "listens = pd.read_csv(data_path / 'train.csv')\n",
    "members = pd.read_csv(data_path / 'members.csv')"
   ]
  },
  {
   "cell_type": "code",
   "execution_count": 3,
   "metadata": {},
   "outputs": [],
   "source": [
    "users_counter = Counter(listens['msno'])\n",
    "active_users = [u for u, c in users_counter.most_common() if c > 50]\n",
    "user_ids = {u: i for i, u in enumerate(active_users)}\n",
    "n_users = len(active_users)\n",
    "songs_counter = Counter(listens['song_id'])\n",
    "popular_songs = [s for s, c in songs_counter.most_common() if c > 50]\n",
    "song_ids = {s: i for i, s in enumerate(popular_songs)}\n",
    "n_songs = len(popular_songs)"
   ]
  },
  {
   "cell_type": "code",
   "execution_count": 4,
   "metadata": {},
   "outputs": [],
   "source": [
    "listens['uid'] = listens['msno'].apply(lambda u: user_ids.get(u, -1))\n",
    "listens['sid'] = listens['song_id'].apply(lambda s: song_ids.get(s, -1))"
   ]
  },
  {
   "cell_type": "code",
   "execution_count": 5,
   "metadata": {},
   "outputs": [],
   "source": [
    "genre_counter = Counter(\n",
    "    g\n",
    "    for x in songs['genre_ids'] if isinstance(x, str)\n",
    "    for g in x.split('|')\n",
    ")\n",
    "popular_genres = {g for g, c in genre_counter.most_common() if c >= 100}\n",
    "\n",
    "def extract_genre(genre_ids):\n",
    "    if not isinstance(genre_ids, str):\n",
    "        return None\n",
    "    genres_ids = [g for g in genre_ids.split('|') if g in popular_genres]\n",
    "    return genres_ids[0] if genres_ids else None\n",
    "    \n",
    "listens['gid'] = listens.join(songs.set_index('song_id'), on='song_id', how='left')['genre_ids']\\\n",
    "    .apply(extract_genre)\\\n",
    "    .reset_index()['genre_ids']"
   ]
  },
  {
   "cell_type": "code",
   "execution_count": 6,
   "metadata": {},
   "outputs": [],
   "source": [
    "artist_names = songs['artist_name'].unique()\n",
    "artist_ids = {a: i for i, a in enumerate(artist_names)}\n",
    "songs['aid'] = songs['artist_name'].apply(artist_ids.get)"
   ]
  },
  {
   "cell_type": "code",
   "execution_count": 7,
   "metadata": {},
   "outputs": [],
   "source": [
    "users_songs_mask = (listens['uid'] >= 0) & (listens['sid'] >= 0)\n",
    "data = listens[users_songs_mask] \\\n",
    "        .join(members[['msno', 'gender', 'bd']].set_index('msno'), on='msno', how='left') \\\n",
    "        .join(songs[['song_id', 'aid']].set_index('song_id'), on='song_id', how='left')\n",
    "\n",
    "data['gender'] = data['gender'].fillna('unk')\n",
    "data['source_screen_name'] = data['source_screen_name'].fillna('unk')\n",
    "data['source_system_tab'] = data['source_system_tab'].fillna('unk')\n",
    "data['source_type'] = data['source_type'].fillna('unk')\n",
    "data['gid'] = data['gid'].fillna(-1)\n",
    "data['ts'] = np.arange(len(data))\n",
    "\n",
    "val_mask = (np.random.randint(0, 5, len(data)) == 0)\n",
    "data_train = data[~val_mask]\n",
    "data_val = data[val_mask]\n",
    "cus = set(data_train['uid']) & set(data_val['uid'])\n",
    "css = set(data_train['sid']) & set(data_val['sid'])\n",
    "data_train = data_train[data_train['uid'].apply(cus.__contains__) & data_train['sid'].apply(css.__contains__)]\n",
    "data_val = data_val[data_val['uid'].apply(cus.__contains__) & data_val['sid'].apply(css.__contains__)]"
   ]
  },
  {
   "cell_type": "code",
   "execution_count": 8,
   "metadata": {},
   "outputs": [],
   "source": [
    "def calc_roc(pt):\n",
    "    pred, target = np.array(list(pt.values)).T\n",
    "    if len(set(target)) < 2:\n",
    "        return -1\n",
    "    return roc_auc_score(target, pred)\n",
    "\n",
    "\n",
    "def evaluate(data, model):\n",
    "    pred = model.predict(data)\n",
    "    pred_data = data[['uid', 'target']].assign(pred=pred)\n",
    "    pred_data['pt'] = pred_data[['pred', 'target']].apply(tuple, axis=1)\n",
    "    user_ausc = pred_data[['uid', 'pt']].groupby('uid').agg(calc_roc)['pt']\n",
    "    return user_ausc[user_ausc >= 0].mean()\n",
    "    \n",
    "\n",
    "def cross_validate(data, model_factory, n_folds=5):\n",
    "    fold_ids = np.random.randint(0, n_folds, len(data))\n",
    "    train_roc_aucs, val_roc_aucs = [], []\n",
    "    for i in range(n_folds):\n",
    "        val_mask = fold_ids == i\n",
    "        train_data = data[~val_mask]\n",
    "        val_data = data[val_mask]\n",
    "        train_users, val_users = set(train_data['uid']), set(val_data['uid'])\n",
    "        cus = train_users & val_users\n",
    "        train_songs, val_songs = set(train_data['sid']), set(val_data['sid'])\n",
    "        css = train_songs & val_songs\n",
    "        train_data = train_data[train_data['uid'].apply(cus.__contains__) & train_data['sid'].apply(css.__contains__)]\n",
    "        val_data = val_data[val_data['uid'].apply(cus.__contains__) & val_data['sid'].apply(css.__contains__)]\n",
    "        \n",
    "        model = model_factory().fit(train_data)\n",
    "        train_roc_auc = evaluate(train_data, model)\n",
    "        val_roc_auc = evaluate(val_data, model)\n",
    "        train_roc_aucs.append(train_roc_auc)\n",
    "        val_roc_aucs.append(val_roc_auc)\n",
    "        print(f'Fold: {i}, ROC AUC: train {train_roc_auc:.3f} val {val_roc_auc:.3f}')\n",
    "    print(f'Average ROC AUC: train {np.mean(train_roc_aucs):.3f} val {np.mean(val_roc_aucs):.3f}')"
   ]
  },
  {
   "cell_type": "code",
   "execution_count": 9,
   "metadata": {},
   "outputs": [],
   "source": [
    "def collect_listens(data):\n",
    "    users_listened = defaultdict(list)\n",
    "    songs_listeners = defaultdict(list)\n",
    "    users_degrees = np.zeros(n_users, dtype=np.int32)\n",
    "    songs_degrees = np.zeros(n_songs, dtype=np.int32)\n",
    "    for _, u, s in data[['uid', 'sid']].itertuples():\n",
    "        users_listened[u].append(s)\n",
    "        songs_listeners[s].append(u)\n",
    "        users_degrees[u] += 1\n",
    "        songs_degrees[s] += 1\n",
    "    return users_listened, songs_listeners, users_degrees, songs_degrees\n",
    "    \n",
    "def make_edges_list(edges_dict):\n",
    "    rows, cols, data = [], [], []\n",
    "    for v, neighbours in edges_dict.items():\n",
    "        rows.extend([v] * len(neighbours))\n",
    "        cols.extend(range(len(neighbours)))\n",
    "        data.extend(neighbours)\n",
    "    return csr_matrix((data, (rows, cols)))"
   ]
  },
  {
   "cell_type": "code",
   "execution_count": 10,
   "metadata": {},
   "outputs": [],
   "source": [
    "def make_walk_step(vs, degrees, edges):\n",
    "    edge_indexes = np.zeros(len(vs), dtype=np.int32)\n",
    "    mask = degrees[vs] > 0\n",
    "    edge_indexes[mask] = np.random.randint(degrees[vs][mask])\n",
    "    return np.array(edges[vs, edge_indexes]).ravel()\n",
    "\n",
    "def run_walks(users, users_edges, songs_edges, users_degrees, songs_degrees, steps, walks_per_user):\n",
    "    pos = np.array(users).repeat(walks_per_user)\n",
    "    for _ in range(steps):\n",
    "        pos = make_walk_step(pos, users_degrees, users_edges)\n",
    "        pos = make_walk_step(pos, songs_degrees, songs_edges)\n",
    "    return pos.reshape((-1, walks_per_user))"
   ]
  },
  {
   "cell_type": "code",
   "execution_count": 11,
   "metadata": {},
   "outputs": [],
   "source": [
    "class PageRank:\n",
    "    def __init__(self):\n",
    "        self.user_song_reaches = {}\n",
    "        \n",
    "    def fit(self, data):\n",
    "        users_listened, songs_listeners, users_degrees, songs_degrees = collect_listens(data[data['target'] == 1])\n",
    "        users_edges = make_edges_list(users_listened)\n",
    "        songs_edges = make_edges_list(songs_listeners)\n",
    "        user_list = list(set(data['uid']))\n",
    "        reached = run_walks(user_list, users_edges, songs_edges, users_degrees, songs_degrees, 15, 500)\n",
    "        self.user_song_reaches = {}\n",
    "        for u, u_reaches in zip(user_list, reached):\n",
    "            r_songs, reaches = np.unique(u_reaches, return_counts=True)\n",
    "            for s, rs in zip(r_songs, reaches):\n",
    "                self.user_song_reaches[(u, s)] = rs\n",
    "        return self\n",
    "        \n",
    "    def predict(self, data):\n",
    "        return [self.user_song_reaches.get((u, s), 0) for _, u, s in data[['uid', 'sid']].itertuples()]"
   ]
  },
  {
   "cell_type": "code",
   "execution_count": 12,
   "metadata": {},
   "outputs": [
    {
     "data": {
      "text/html": [
       "<div>\n",
       "<style scoped>\n",
       "    .dataframe tbody tr th:only-of-type {\n",
       "        vertical-align: middle;\n",
       "    }\n",
       "\n",
       "    .dataframe tbody tr th {\n",
       "        vertical-align: top;\n",
       "    }\n",
       "\n",
       "    .dataframe thead th {\n",
       "        text-align: right;\n",
       "    }\n",
       "</style>\n",
       "<table border=\"1\" class=\"dataframe\">\n",
       "  <thead>\n",
       "    <tr style=\"text-align: right;\">\n",
       "      <th></th>\n",
       "      <th>u0</th>\n",
       "      <th>u1</th>\n",
       "      <th>u2</th>\n",
       "      <th>u3</th>\n",
       "    </tr>\n",
       "  </thead>\n",
       "  <tbody>\n",
       "    <tr>\n",
       "      <th>0</th>\n",
       "      <td>0</td>\n",
       "      <td>1</td>\n",
       "      <td>2</td>\n",
       "      <td>3</td>\n",
       "    </tr>\n",
       "    <tr>\n",
       "      <th>1</th>\n",
       "      <td>4</td>\n",
       "      <td>5</td>\n",
       "      <td>6</td>\n",
       "      <td>7</td>\n",
       "    </tr>\n",
       "    <tr>\n",
       "      <th>2</th>\n",
       "      <td>8</td>\n",
       "      <td>9</td>\n",
       "      <td>10</td>\n",
       "      <td>11</td>\n",
       "    </tr>\n",
       "  </tbody>\n",
       "</table>\n",
       "</div>"
      ],
      "text/plain": [
       "   u0  u1  u2  u3\n",
       "0   0   1   2   3\n",
       "1   4   5   6   7\n",
       "2   8   9  10  11"
      ]
     },
     "execution_count": 12,
     "metadata": {},
     "output_type": "execute_result"
    }
   ],
   "source": [
    "tdf = pd.DataFrame(np.arange(12).reshape((3, 4)))\n",
    "tdf.columns = [f'u{i}' for i in tdf.columns]\n",
    "tdf"
   ]
  },
  {
   "cell_type": "code",
   "execution_count": 12,
   "metadata": {},
   "outputs": [],
   "source": [
    "class HistoryFeatureCalculator:\n",
    "    def __init__(self, f1, f2):\n",
    "        self.history = []\n",
    "        self.f1 = f1\n",
    "        self.f2 = f2\n",
    "    \n",
    "    def fit(self, data):\n",
    "        self.history = list(zip(\n",
    "            data[self.f1].values, data[self.f2].values, data['ts'], data['target']))\n",
    "        return self\n",
    "        \n",
    "    def predict(self, data):\n",
    "        queries = list(zip(data[self.f1].values, data[self.f2].values, data['ts']))\n",
    "        mixed_history = sorted(self.history + queries, key=lambda p: p[2] if len(p) == 3 else p[2] + .5)\n",
    "        pos_res, neg_res = [], []\n",
    "        pos_counter, neg_counter = Counter(), Counter()\n",
    "        for p in mixed_history:\n",
    "            counter_key = p[:2]\n",
    "            if len(p) == 3:\n",
    "                pos_res.append(pos_counter[counter_key])\n",
    "                neg_res.append(neg_counter[counter_key])\n",
    "            else:\n",
    "                if p[3]:\n",
    "                    pos_counter.update((counter_key,))\n",
    "                else:\n",
    "                    neg_counter.update((counter_key,))\n",
    "        return pos_res, neg_res"
   ]
  },
  {
   "cell_type": "code",
   "execution_count": 13,
   "metadata": {},
   "outputs": [],
   "source": [
    "BASIC_FEATURES = ['bd', 'gid', 'gender', 'source_screen_name', 'source_system_tab', 'source_type']\n",
    "CAT_FEATURES = ['gid', 'gender', 'source_screen_name', 'source_system_tab', 'source_type']\n",
    "\n",
    "\n",
    "def calc_gb_features(pr, hist_calc_art, hist_calc_gen, data):\n",
    "    art_pos, art_neg = hist_calc_art.predict(data)\n",
    "    gen_pos, gen_neg = hist_calc_gen.predict(data)\n",
    "    return data[BASIC_FEATURES] \\\n",
    "                .assign(pr=pr.predict(data)) \\\n",
    "                .assign(ap=art_pos) \\\n",
    "                .assign(an=art_neg) \\\n",
    "                .assign(gp=gen_pos) \\\n",
    "                .assign(gn=gen_neg)"
   ]
  },
  {
   "cell_type": "code",
   "execution_count": 14,
   "metadata": {},
   "outputs": [],
   "source": [
    "pr = PageRank().fit(data_train)\n",
    "hist_calc_art = HistoryFeatureCalculator('uid', 'aid').fit(data_train)\n",
    "hist_calc_gen = HistoryFeatureCalculator('uid', 'gid').fit(data_train)\n",
    "\n",
    "gbm_x_train = calc_gb_features(pr, hist_calc_art, hist_calc_gen, data_train)\n",
    "gbm_x_val = calc_gb_features(pr, hist_calc_art, hist_calc_gen, data_val)"
   ]
  },
  {
   "cell_type": "code",
   "execution_count": 66,
   "metadata": {},
   "outputs": [
    {
     "name": "stdout",
     "output_type": "stream",
     "text": [
      "100%|███████████████████████████████████████████████| 20/20 [18:24<00:00, 55.23s/trial, best loss: -0.7099203597436984]\n"
     ]
    },
    {
     "data": {
      "text/plain": [
       "(100, 10, 0.23517883705005213, 1.7785174894862406)"
      ]
     },
     "execution_count": 66,
     "metadata": {},
     "output_type": "execute_result"
    }
   ],
   "source": [
    "def gb_obj(params):\n",
    "    model = catboost.CatBoostClassifier(task_type='GPU', logging_level='Silent', **params)\n",
    "    model.fit(gbm_x_train, data_train['target'], cat_features=CAT_FEATURES)\n",
    "    \n",
    "    model_pred = model.predict_proba(gbm_x_val)[:, 1]\n",
    "    pred_data = data_val[['uid', 'target']].assign(pred=model_pred)\n",
    "    pred_data['pt'] = pred_data[['pred', 'target']].apply(tuple, axis=1)\n",
    "    user_ausc = pred_data[['uid', 'pt']].groupby('uid').agg(calc_roc)['pt']\n",
    "    return -user_ausc[user_ausc >= 0].mean()\n",
    "\n",
    "gbm_n_estimators_options = [60, 100]\n",
    "gbm_max_depth_options = [6, 8, 10]\n",
    "gb_param_space = {\n",
    "    'n_estimators': hp.choice('n_estimators', gbm_n_estimators_options),\n",
    "    'max_depth': hp.choice('max_depth', gbm_max_depth_options),\n",
    "    'learning_rate': hp.loguniform('learning_rate', np.log(.05), np.log(1)),\n",
    "    'l2_leaf_reg': hp.loguniform('l2_leaf_reg', np.log(1), np.log(10))\n",
    "}\n",
    "\n",
    "gbm_best = fmin(gb_obj, gb_param_space, algo=tpe.suggest, max_evals=20)\n",
    "\n",
    "gbm_n_estimators = gbm_n_estimators_options[gbm_best['n_estimators']]\n",
    "gbm_max_depth = gbm_max_depth_options[gbm_best['max_depth']]\n",
    "gbm_learning_rate = gbm_best['learning_rate']\n",
    "gbm_l2_leaf_reg = gbm_best['l2_leaf_reg']\n",
    "\n",
    "gbm_n_estimators, gbm_max_depth, gbm_learning_rate, gbm_l2_leaf_reg"
   ]
  },
  {
   "cell_type": "code",
   "execution_count": 67,
   "metadata": {},
   "outputs": [],
   "source": [
    "class GBModel:\n",
    "    def __init__(self):\n",
    "        self.clf = catboost.CatBoostClassifier(task_type='GPU', logging_level='Silent', \n",
    "                n_estimators=gbm_n_estimators, max_depth=gbm_max_depth, learning_rate=gbm_learning_rate, \n",
    "                                               l2_leaf_reg=gbm_l2_leaf_reg)\n",
    "        self.pr = PageRank()\n",
    "        self.hist_calc_art = HistoryFeatureCalculator('uid', 'aid')\n",
    "        self.hist_calc_gen = HistoryFeatureCalculator('uid', 'gid')\n",
    "    \n",
    "    def fit(self, data):\n",
    "        self.pr.fit(data)\n",
    "        self.hist_calc_art.fit(data)\n",
    "        self.hist_calc_gen.fit(data)\n",
    "        \n",
    "        x = calc_gb_features(self.pr, self.hist_calc_art, self.hist_calc_gen, data)\n",
    "        y = data['target']\n",
    "        self.clf.fit(x, y, cat_features=CAT_FEATURES)\n",
    "        return self\n",
    "    \n",
    "    def predict(self, data):\n",
    "        x = calc_gb_features(self.pr, self.hist_calc_art, self.hist_calc_gen, data)\n",
    "        return self.clf.predict_proba(x)[:, 1]"
   ]
  },
  {
   "cell_type": "code",
   "execution_count": 72,
   "metadata": {},
   "outputs": [
    {
     "name": "stdout",
     "output_type": "stream",
     "text": [
      "Fold: 0, ROC AUC: train 0.697 val 0.711\n",
      "Fold: 1, ROC AUC: train 0.698 val 0.709\n",
      "Fold: 2, ROC AUC: train 0.698 val 0.709\n",
      "Fold: 3, ROC AUC: train 0.698 val 0.710\n",
      "Fold: 4, ROC AUC: train 0.698 val 0.708\n",
      "Average ROC AUC: train 0.698 val 0.709\n"
     ]
    }
   ],
   "source": [
    "cross_validate(data, GBModel)"
   ]
  },
  {
   "cell_type": "code",
   "execution_count": 15,
   "metadata": {},
   "outputs": [],
   "source": [
    "import torch\n",
    "from torch import nn\n",
    "import torch.nn.functional as F"
   ]
  },
  {
   "cell_type": "code",
   "execution_count": 16,
   "metadata": {},
   "outputs": [],
   "source": [
    "def make_walks(users, users_edges, songs_edges, users_degrees, songs_degrees, steps, walks_per_user):\n",
    "    pos = np.array(users).repeat(walks_per_user)\n",
    "    trace = [pos]\n",
    "    for _ in range(steps):\n",
    "        pos = make_walk_step(pos, users_degrees, users_edges)\n",
    "        trace.append(pos)\n",
    "        pos = make_walk_step(pos, songs_degrees, songs_edges)\n",
    "        trace.append(pos)\n",
    "    return np.hstack([np.expand_dims(pos, 1) for pos in trace])"
   ]
  },
  {
   "cell_type": "code",
   "execution_count": 17,
   "metadata": {},
   "outputs": [],
   "source": [
    "class SkipGramDataset(torch.utils.data.Dataset):\n",
    "    def __init__(self, context_max_dist, n_users, walks, shuffle=False):\n",
    "        self.walks = walks.copy().astype(np.int64)\n",
    "        self.walks[:, 1::2] += n_users\n",
    "        pairs = []\n",
    "        self.max_dist = context_max_dist\n",
    "        self.shuffle = shuffle\n",
    "        for walk in self.walks:\n",
    "            for target_index, target in enumerate(walk):\n",
    "                for neighbour in walk[max(0, target_index - self.max_dist):target_index + self.max_dist + 1]:\n",
    "                    if target != neighbour:\n",
    "                        pairs.append((target, neighbour))\n",
    "        self.pairs = np.array(pairs)\n",
    "        \n",
    "    def __len__(self):\n",
    "        return len(self.pairs)\n",
    "    \n",
    "    def __getitem__(self, index):\n",
    "        return tuple(self.pairs[index])"
   ]
  },
  {
   "cell_type": "code",
   "execution_count": 18,
   "metadata": {},
   "outputs": [],
   "source": [
    "class SkipGramNegativeSampler:\n",
    "    def __init__(self, data, n_users):\n",
    "        user_samples = data['uid'].values\n",
    "        song_samples = data['sid'].values + n_users\n",
    "        self.samples = np.concatenate((user_samples, song_samples))\n",
    "    \n",
    "    def sample(self, n):\n",
    "        return torch.LongTensor(np.random.choice(self.samples, n))\n",
    "\n",
    "    \n",
    "class SkipGramLoss(nn.Module):\n",
    "    def __init__(self, tgt_embedding, ctxt_embedding, neg_sampler, l2_reg, device='cpu'):\n",
    "        super().__init__()\n",
    "        self.neg_sampler = neg_sampler\n",
    "        self.tgt_embedding = tgt_embedding.to(device)\n",
    "        self.ctxt_embedding = ctxt_embedding.to(device)\n",
    "        self.device = device\n",
    "        self.l2_reg = l2_reg\n",
    "        \n",
    "    def forward(self, target, positives):\n",
    "        negatives = self.neg_sampler.sample(len(target)).to(self.device)\n",
    "        target, positives = target.to(self.device), positives.to(self.device)\n",
    "        \n",
    "        tgt_embeddings = self.tgt_embedding(target)\n",
    "        pos_embeddings = self.ctxt_embedding(positives)\n",
    "        neg_embeddings = self.ctxt_embedding(negatives)\n",
    "        \n",
    "        pos_sim_ls = torch.sigmoid(-torch.sum(tgt_embeddings * pos_embeddings, dim=1)).mean()\n",
    "        neg_sim_ls = torch.sigmoid(torch.sum(tgt_embeddings * neg_embeddings, dim=1)).mean()\n",
    "        return pos_sim_ls + neg_sim_ls + \\\n",
    "            torch.norm(tgt_embeddings, dim=1).mean() * self.l2_reg + \\\n",
    "            torch.norm(pos_embeddings, dim=1).mean() * self.l2_reg + \\\n",
    "            torch.norm(neg_embeddings, dim=1).mean() * self.l2_reg"
   ]
  },
  {
   "cell_type": "code",
   "execution_count": 19,
   "metadata": {},
   "outputs": [],
   "source": [
    "def train_skip_gram(loss_function, data, n_epochs, lr_step, lr_gamma, lr, *, quiet=False, device='cpu'):\n",
    "    optimizer = torch.optim.Adam(loss_function.parameters(), lr=lr)\n",
    "    lr_scheduler = torch.optim.lr_scheduler.StepLR(optimizer, step_size=lr_step, gamma=lr_gamma)\n",
    "    for epoch in range(n_epochs):\n",
    "        losses = []\n",
    "        for target, positive in data:\n",
    "            target, positive = target.to(device), positive.to(device)\n",
    "            optimizer.zero_grad()\n",
    "            loss = loss_function(target, positive)\n",
    "            loss.backward()\n",
    "            optimizer.step()\n",
    "            losses.append(loss.detach())\n",
    "        lr_scheduler.step()\n",
    "        if not quiet:\n",
    "            avg_loss = torch.tensor(losses).mean()\n",
    "            print(f'Epoch {epoch} loss {avg_loss:.3f}')"
   ]
  },
  {
   "cell_type": "code",
   "execution_count": 20,
   "metadata": {},
   "outputs": [],
   "source": [
    "EMBEDDING_DIM = 20\n",
    "device = 'cuda'"
   ]
  },
  {
   "cell_type": "code",
   "execution_count": 21,
   "metadata": {},
   "outputs": [],
   "source": [
    "def walks_from_data(data):\n",
    "    users_listened, songs_listeners, users_degrees, songs_degrees = collect_listens(data[data['target'] == 1])\n",
    "    users_edges = make_edges_list(users_listened)\n",
    "    songs_edges = make_edges_list(songs_listeners)\n",
    "    user_list = list(set(data['uid']))\n",
    "    return make_walks(user_list, users_edges, songs_edges, users_degrees, songs_degrees, 10, 25)"
   ]
  },
  {
   "cell_type": "code",
   "execution_count": 22,
   "metadata": {},
   "outputs": [],
   "source": [
    "class SkipGramModel:\n",
    "    def __init__(self):\n",
    "        self.user_embedding = None\n",
    "        self.song_embedding = None\n",
    "    \n",
    "    def fit(self, data):\n",
    "        walks = walks_from_data(data)\n",
    "        \n",
    "        dataset = SkipGramDataset(2, n_users, walks, shuffle=True)\n",
    "        dataloader = torch.utils.data.DataLoader(dataset, batch_size=2 ** 21)\n",
    "        \n",
    "        tgt_emb = nn.Embedding(n_users + n_songs, EMBEDDING_DIM)\n",
    "        ctxt_emb = nn.Embedding(n_users + n_songs, EMBEDDING_DIM)\n",
    "        neg_sampler = SkipGramNegativeSampler(data, n_users)\n",
    "        loss_function = SkipGramLoss(tgt_emb, ctxt_emb, neg_sampler, .01, device)\n",
    "        train_skip_gram(loss_function, dataloader, 5, 1, .7, 1., quiet=True, device=device)\n",
    "        \n",
    "        all_vectors = tgt_emb.weight.data.cpu()\n",
    "        self.user_embedding = all_vectors[:n_users]\n",
    "        self.song_embedding = all_vectors[n_users:]\n",
    "        return self\n",
    "    \n",
    "    def predict(self, data):\n",
    "        users = data['uid'].values\n",
    "        songs = data['sid'].values\n",
    "        with torch.no_grad():\n",
    "            prediction = torch.sigmoid(torch.sum(self.user_embedding[users] * self.song_embedding[songs], axis=1))\n",
    "        return prediction.numpy()"
   ]
  },
  {
   "cell_type": "code",
   "execution_count": 85,
   "metadata": {
    "scrolled": true
   },
   "outputs": [
    {
     "name": "stdout",
     "output_type": "stream",
     "text": [
      "Fold: 0, ROC AUC: train 0.570 val 0.555\n",
      "Fold: 1, ROC AUC: train 0.571 val 0.556\n",
      "Fold: 2, ROC AUC: train 0.571 val 0.556\n",
      "Fold: 3, ROC AUC: train 0.570 val 0.556\n",
      "Fold: 4, ROC AUC: train 0.571 val 0.557\n",
      "Average ROC AUC: train 0.571 val 0.556\n"
     ]
    }
   ],
   "source": [
    "cross_validate(data, SkipGramModel)"
   ]
  },
  {
   "cell_type": "code",
   "execution_count": 24,
   "metadata": {},
   "outputs": [],
   "source": [
    "sgm = SkipGramModel().fit(data_train)"
   ]
  },
  {
   "cell_type": "code",
   "execution_count": 26,
   "metadata": {},
   "outputs": [],
   "source": [
    "stack_x_train = gbm_x_train.assign(sg=sgm.predict(data_train))\n",
    "stack_x_val = gbm_x_val.assign(sg=sgm.predict(data_val))"
   ]
  },
  {
   "cell_type": "code",
   "execution_count": 31,
   "metadata": {},
   "outputs": [],
   "source": [
    "del sgm\n",
    "torch.cuda.empty_cache()"
   ]
  },
  {
   "cell_type": "code",
   "execution_count": 32,
   "metadata": {},
   "outputs": [
    {
     "name": "stdout",
     "output_type": "stream",
     "text": [
      "100%|█████████████████████████████████████████████████| 8/8 [08:10<00:00, 61.27s/trial, best loss: -0.7172332560188132]\n"
     ]
    },
    {
     "data": {
      "text/plain": [
       "(0.9044885047681392, 9.555151526592237)"
      ]
     },
     "execution_count": 32,
     "metadata": {},
     "output_type": "execute_result"
    }
   ],
   "source": [
    "def stack_obj(params):\n",
    "    model = catboost.CatBoostClassifier(task_type='GPU', logging_level='Silent', \n",
    "                                        n_estimators=100, max_depth=10, **params)\n",
    "    model.fit(stack_x_train, data_train['target'], cat_features=CAT_FEATURES)\n",
    "    \n",
    "    model_pred = model.predict_proba(stack_x_val)[:, 1]\n",
    "    pred_data = data_val[['uid', 'target']].assign(pred=model_pred)\n",
    "    pred_data['pt'] = pred_data[['pred', 'target']].apply(tuple, axis=1)\n",
    "    user_ausc = pred_data[['uid', 'pt']].groupby('uid').agg(calc_roc)['pt']\n",
    "    return -user_ausc[user_ausc >= 0].mean()\n",
    "\n",
    "stack_param_space = {\n",
    "    'learning_rate': hp.loguniform('learning_rate', np.log(.05), np.log(1)),\n",
    "    'l2_leaf_reg': hp.loguniform('l2_leaf_reg', np.log(1), np.log(10))\n",
    "}\n",
    "\n",
    "stack_best = fmin(stack_obj, stack_param_space, algo=tpe.suggest, max_evals=8)\n",
    "\n",
    "stack_learning_rate = stack_best['learning_rate']\n",
    "stack_l2_leaf_reg = stack_best['l2_leaf_reg']\n",
    "\n",
    "stack_learning_rate, stack_l2_leaf_reg"
   ]
  },
  {
   "cell_type": "code",
   "execution_count": 37,
   "metadata": {},
   "outputs": [],
   "source": [
    "class StackModel:\n",
    "    def __init__(self):\n",
    "        self.clf = catboost.CatBoostClassifier(task_type='GPU', logging_level='Silent', \n",
    "                n_estimators=100, max_depth=10, learning_rate=stack_learning_rate, l2_leaf_reg=stack_l2_leaf_reg)\n",
    "        self.pr = PageRank()\n",
    "        self.hist_calc_art = HistoryFeatureCalculator('uid', 'aid')\n",
    "        self.hist_calc_gen = HistoryFeatureCalculator('uid', 'gid')\n",
    "        self.skip_gram_model = SkipGramModel()\n",
    "    \n",
    "    def fit(self, data):\n",
    "        self.pr.fit(data)\n",
    "        self.hist_calc_art.fit(data)\n",
    "        self.hist_calc_gen.fit(data)\n",
    "        self.skip_gram_model.fit(data)\n",
    "        \n",
    "        x = calc_gb_features(self.pr, self.hist_calc_art, self.hist_calc_gen, data) \\\n",
    "            .assign(sg=self.skip_gram_model.predict(data))\n",
    "        y = data['target']\n",
    "        self.clf.fit(x, y, cat_features=CAT_FEATURES)\n",
    "        return self\n",
    "    \n",
    "    def predict(self, data):\n",
    "        x = calc_gb_features(self.pr, self.hist_calc_art, self.hist_calc_gen, data) \\\n",
    "            .assign(sg=self.skip_gram_model.predict(data))\n",
    "        return self.clf.predict_proba(x)[:, 1]"
   ]
  },
  {
   "cell_type": "code",
   "execution_count": 38,
   "metadata": {},
   "outputs": [
    {
     "name": "stderr",
     "output_type": "stream",
     "text": [
      "Warning: less than 75% gpu memory available for training. Free: 1631.275001 Total: 4096\n"
     ]
    },
    {
     "name": "stdout",
     "output_type": "stream",
     "text": [
      "Fold: 0, ROC AUC: train 0.713 val 0.716\n"
     ]
    },
    {
     "name": "stderr",
     "output_type": "stream",
     "text": [
      "Warning: less than 75% gpu memory available for training. Free: 1631.275001 Total: 4096\n"
     ]
    },
    {
     "name": "stdout",
     "output_type": "stream",
     "text": [
      "Fold: 1, ROC AUC: train 0.713 val 0.716\n"
     ]
    },
    {
     "name": "stderr",
     "output_type": "stream",
     "text": [
      "Warning: less than 75% gpu memory available for training. Free: 1631.275001 Total: 4096\n"
     ]
    },
    {
     "name": "stdout",
     "output_type": "stream",
     "text": [
      "Fold: 2, ROC AUC: train 0.712 val 0.717\n"
     ]
    },
    {
     "name": "stderr",
     "output_type": "stream",
     "text": [
      "Warning: less than 75% gpu memory available for training. Free: 1631.275001 Total: 4096\n"
     ]
    },
    {
     "name": "stdout",
     "output_type": "stream",
     "text": [
      "Fold: 3, ROC AUC: train 0.713 val 0.714\n"
     ]
    },
    {
     "name": "stderr",
     "output_type": "stream",
     "text": [
      "Warning: less than 75% gpu memory available for training. Free: 1631.275001 Total: 4096\n"
     ]
    },
    {
     "name": "stdout",
     "output_type": "stream",
     "text": [
      "Fold: 4, ROC AUC: train 0.713 val 0.716\n",
      "Average ROC AUC: train 0.713 val 0.716\n"
     ]
    }
   ],
   "source": [
    "cross_validate(data, StackModel)"
   ]
  },
  {
   "cell_type": "code",
   "execution_count": 43,
   "metadata": {
    "scrolled": true
   },
   "outputs": [
    {
     "name": "stderr",
     "output_type": "stream",
     "text": [
      "Warning: less than 75% gpu memory available for training. Free: 1631.275001 Total: 4096\n"
     ]
    },
    {
     "name": "stdout",
     "output_type": "stream",
     "text": [
      "0:\tlearn: 0.6532128\ttotal: 194ms\tremaining: 19.2s\n",
      "1:\tlearn: 0.6363745\ttotal: 377ms\tremaining: 18.5s\n",
      "2:\tlearn: 0.5851567\ttotal: 586ms\tremaining: 18.9s\n",
      "3:\tlearn: 0.5743697\ttotal: 768ms\tremaining: 18.4s\n",
      "4:\tlearn: 0.5697256\ttotal: 978ms\tremaining: 18.6s\n",
      "5:\tlearn: 0.5673190\ttotal: 1.17s\tremaining: 18.3s\n",
      "6:\tlearn: 0.5661984\ttotal: 1.32s\tremaining: 17.6s\n",
      "7:\tlearn: 0.5649119\ttotal: 1.52s\tremaining: 17.5s\n",
      "8:\tlearn: 0.5637393\ttotal: 1.72s\tremaining: 17.3s\n",
      "9:\tlearn: 0.5631642\ttotal: 1.89s\tremaining: 17s\n",
      "10:\tlearn: 0.5625991\ttotal: 2.08s\tremaining: 16.8s\n",
      "11:\tlearn: 0.5621089\ttotal: 2.26s\tremaining: 16.6s\n",
      "12:\tlearn: 0.5616653\ttotal: 2.43s\tremaining: 16.3s\n",
      "13:\tlearn: 0.5613700\ttotal: 2.6s\tremaining: 16s\n",
      "14:\tlearn: 0.5611155\ttotal: 2.77s\tremaining: 15.7s\n",
      "15:\tlearn: 0.5608748\ttotal: 2.95s\tremaining: 15.5s\n",
      "16:\tlearn: 0.5605747\ttotal: 3.13s\tremaining: 15.3s\n",
      "17:\tlearn: 0.5603535\ttotal: 3.31s\tremaining: 15.1s\n",
      "18:\tlearn: 0.5600213\ttotal: 3.5s\tremaining: 14.9s\n",
      "19:\tlearn: 0.5598007\ttotal: 3.67s\tremaining: 14.7s\n",
      "20:\tlearn: 0.5595195\ttotal: 3.86s\tremaining: 14.5s\n",
      "21:\tlearn: 0.5593619\ttotal: 4.04s\tremaining: 14.3s\n",
      "22:\tlearn: 0.5591267\ttotal: 4.23s\tremaining: 14.2s\n",
      "23:\tlearn: 0.5587854\ttotal: 4.44s\tremaining: 14.1s\n",
      "24:\tlearn: 0.5586617\ttotal: 4.6s\tremaining: 13.8s\n",
      "25:\tlearn: 0.5584247\ttotal: 4.81s\tremaining: 13.7s\n",
      "26:\tlearn: 0.5582532\ttotal: 4.99s\tremaining: 13.5s\n",
      "27:\tlearn: 0.5580945\ttotal: 5.19s\tremaining: 13.3s\n",
      "28:\tlearn: 0.5579671\ttotal: 5.37s\tremaining: 13.2s\n",
      "29:\tlearn: 0.5578426\ttotal: 5.55s\tremaining: 12.9s\n",
      "30:\tlearn: 0.5576599\ttotal: 5.73s\tremaining: 12.8s\n",
      "31:\tlearn: 0.5575356\ttotal: 5.92s\tremaining: 12.6s\n",
      "32:\tlearn: 0.5574218\ttotal: 6.1s\tremaining: 12.4s\n",
      "33:\tlearn: 0.5572976\ttotal: 6.28s\tremaining: 12.2s\n",
      "34:\tlearn: 0.5571979\ttotal: 6.47s\tremaining: 12s\n",
      "35:\tlearn: 0.5570725\ttotal: 6.66s\tremaining: 11.8s\n",
      "36:\tlearn: 0.5569611\ttotal: 6.83s\tremaining: 11.6s\n",
      "37:\tlearn: 0.5568425\ttotal: 7s\tremaining: 11.4s\n",
      "38:\tlearn: 0.5567578\ttotal: 7.18s\tremaining: 11.2s\n",
      "39:\tlearn: 0.5565961\ttotal: 7.38s\tremaining: 11.1s\n",
      "40:\tlearn: 0.5565132\ttotal: 7.55s\tremaining: 10.9s\n",
      "41:\tlearn: 0.5564154\ttotal: 7.74s\tremaining: 10.7s\n",
      "42:\tlearn: 0.5563384\ttotal: 7.92s\tremaining: 10.5s\n",
      "43:\tlearn: 0.5561886\ttotal: 8.1s\tremaining: 10.3s\n",
      "44:\tlearn: 0.5560755\ttotal: 8.28s\tremaining: 10.1s\n",
      "45:\tlearn: 0.5560223\ttotal: 8.45s\tremaining: 9.93s\n",
      "46:\tlearn: 0.5559312\ttotal: 8.64s\tremaining: 9.74s\n",
      "47:\tlearn: 0.5558363\ttotal: 8.82s\tremaining: 9.56s\n",
      "48:\tlearn: 0.5557274\ttotal: 9.01s\tremaining: 9.38s\n",
      "49:\tlearn: 0.5556394\ttotal: 9.17s\tremaining: 9.17s\n",
      "50:\tlearn: 0.5555835\ttotal: 9.36s\tremaining: 9s\n",
      "51:\tlearn: 0.5554949\ttotal: 9.54s\tremaining: 8.8s\n",
      "52:\tlearn: 0.5554281\ttotal: 9.71s\tremaining: 8.61s\n",
      "53:\tlearn: 0.5553361\ttotal: 9.89s\tremaining: 8.43s\n",
      "54:\tlearn: 0.5552927\ttotal: 10.1s\tremaining: 8.23s\n",
      "55:\tlearn: 0.5551874\ttotal: 10.2s\tremaining: 8.05s\n",
      "56:\tlearn: 0.5550704\ttotal: 10.4s\tremaining: 7.87s\n",
      "57:\tlearn: 0.5549532\ttotal: 10.6s\tremaining: 7.69s\n",
      "58:\tlearn: 0.5548205\ttotal: 10.8s\tremaining: 7.52s\n",
      "59:\tlearn: 0.5547133\ttotal: 11s\tremaining: 7.34s\n",
      "60:\tlearn: 0.5545610\ttotal: 11.2s\tremaining: 7.17s\n",
      "61:\tlearn: 0.5545438\ttotal: 11.4s\tremaining: 6.96s\n",
      "62:\tlearn: 0.5544189\ttotal: 11.5s\tremaining: 6.78s\n",
      "63:\tlearn: 0.5543199\ttotal: 11.7s\tremaining: 6.6s\n",
      "64:\tlearn: 0.5542853\ttotal: 11.9s\tremaining: 6.41s\n",
      "65:\tlearn: 0.5542439\ttotal: 12.1s\tremaining: 6.23s\n",
      "66:\tlearn: 0.5541372\ttotal: 12.3s\tremaining: 6.05s\n",
      "67:\tlearn: 0.5540849\ttotal: 12.5s\tremaining: 5.87s\n",
      "68:\tlearn: 0.5540199\ttotal: 12.6s\tremaining: 5.68s\n",
      "69:\tlearn: 0.5539796\ttotal: 12.8s\tremaining: 5.49s\n",
      "70:\tlearn: 0.5538777\ttotal: 13s\tremaining: 5.31s\n",
      "71:\tlearn: 0.5538326\ttotal: 13.2s\tremaining: 5.13s\n",
      "72:\tlearn: 0.5537039\ttotal: 13.4s\tremaining: 4.94s\n",
      "73:\tlearn: 0.5536625\ttotal: 13.5s\tremaining: 4.76s\n",
      "74:\tlearn: 0.5535729\ttotal: 13.7s\tremaining: 4.58s\n",
      "75:\tlearn: 0.5535427\ttotal: 13.9s\tremaining: 4.38s\n",
      "76:\tlearn: 0.5534393\ttotal: 14.1s\tremaining: 4.2s\n",
      "77:\tlearn: 0.5533867\ttotal: 14.2s\tremaining: 4.02s\n",
      "78:\tlearn: 0.5533396\ttotal: 14.4s\tremaining: 3.83s\n",
      "79:\tlearn: 0.5532483\ttotal: 14.6s\tremaining: 3.65s\n",
      "80:\tlearn: 0.5531729\ttotal: 14.8s\tremaining: 3.46s\n",
      "81:\tlearn: 0.5531443\ttotal: 14.9s\tremaining: 3.28s\n",
      "82:\tlearn: 0.5530503\ttotal: 15.1s\tremaining: 3.1s\n",
      "83:\tlearn: 0.5529611\ttotal: 15.3s\tremaining: 2.92s\n",
      "84:\tlearn: 0.5528539\ttotal: 15.5s\tremaining: 2.74s\n",
      "85:\tlearn: 0.5527985\ttotal: 15.7s\tremaining: 2.56s\n",
      "86:\tlearn: 0.5527602\ttotal: 15.9s\tremaining: 2.37s\n",
      "87:\tlearn: 0.5526944\ttotal: 16.1s\tremaining: 2.19s\n",
      "88:\tlearn: 0.5526222\ttotal: 16.2s\tremaining: 2.01s\n",
      "89:\tlearn: 0.5525469\ttotal: 16.4s\tremaining: 1.82s\n",
      "90:\tlearn: 0.5524916\ttotal: 16.6s\tremaining: 1.64s\n",
      "91:\tlearn: 0.5524521\ttotal: 16.8s\tremaining: 1.46s\n",
      "92:\tlearn: 0.5524136\ttotal: 17s\tremaining: 1.28s\n",
      "93:\tlearn: 0.5523234\ttotal: 17.2s\tremaining: 1.09s\n",
      "94:\tlearn: 0.5523043\ttotal: 17.3s\tremaining: 912ms\n",
      "95:\tlearn: 0.5522032\ttotal: 17.5s\tremaining: 730ms\n",
      "96:\tlearn: 0.5521554\ttotal: 17.7s\tremaining: 548ms\n",
      "97:\tlearn: 0.5520705\ttotal: 17.9s\tremaining: 365ms\n",
      "98:\tlearn: 0.5520155\ttotal: 18.1s\tremaining: 183ms\n",
      "99:\tlearn: 0.5519647\ttotal: 18.3s\tremaining: 0us\n"
     ]
    },
    {
     "data": {
      "text/plain": [
       "<catboost.core.CatBoostClassifier at 0x266418b0248>"
      ]
     },
     "execution_count": 43,
     "metadata": {},
     "output_type": "execute_result"
    }
   ],
   "source": [
    "stack_classifier = catboost.CatBoostClassifier(task_type='GPU', n_estimators=100, max_depth=10, \n",
    "        learning_rate=stack_learning_rate, l2_leaf_reg=stack_l2_leaf_reg)\n",
    "stack_classifier.fit(stack_x_train, data_train['target'], cat_features=CAT_FEATURES)"
   ]
  },
  {
   "cell_type": "code",
   "execution_count": 44,
   "metadata": {},
   "outputs": [],
   "source": [
    "import shap"
   ]
  },
  {
   "cell_type": "code",
   "execution_count": 46,
   "metadata": {},
   "outputs": [],
   "source": [
    "explainer = shap.TreeExplainer(stack_classifier)"
   ]
  },
  {
   "cell_type": "code",
   "execution_count": 48,
   "metadata": {},
   "outputs": [],
   "source": [
    "shap_values = explainer.shap_values(stack_x_val)"
   ]
  },
  {
   "cell_type": "code",
   "execution_count": 49,
   "metadata": {},
   "outputs": [
    {
     "data": {
      "image/png": "[encoded data removed]",
      "text/plain": [
       "<Figure size 576x453.6 with 2 Axes>"
      ]
     },
     "metadata": {
      "needs_background": "light"
     },
     "output_type": "display_data"
    }
   ],
   "source": [
    "shap.summary_plot(shap_values, stack_x_val)"
   ]
  }
 ],
 "metadata": {
  "kernelspec": {
   "display_name": "Python 3",
   "language": "python",
   "name": "python3"
  },
  "language_info": {
   "codemirror_mode": {
    "name": "ipython",
    "version": 3
   },
   "file_extension": ".py",
   "mimetype": "text/x-python",
   "name": "python",
   "nbconvert_exporter": "python",
   "pygments_lexer": "ipython3",
   "version": "3.7.7"
  }
 },
 "nbformat": 4,
 "nbformat_minor": 4
}
